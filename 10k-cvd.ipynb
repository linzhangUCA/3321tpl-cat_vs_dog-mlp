{
 "cells": [
  {
   "cell_type": "code",
   "execution_count": 16,
   "id": "14253469",
   "metadata": {},
   "outputs": [
    {
     "name": "stdout",
     "output_type": "stream",
     "text": [
      "Path to dataset cache: /home/pbd0/Documents/3321/3321tpl-cat_vs_dog-mlp/data/datasets/tongpython/cat-and-dog/versions/1\n",
      "There are 4000 cat images, and 4005 dog images in the training dataset\n",
      "There are 1011 cat images, and 1012 dog images in the validation dataset\n"
     ]
    }
   ],
   "source": [
    "import kagglehub\n",
    "import os\n",
    "from pathlib import Path\n",
    "import pandas as pd\n",
    "\n",
    "os.environ['KAGGLEHUB_CACHE'] = str(Path.cwd() / \"data\") # Set cache directory to ./data\n",
    "\n",
    "data_root_dir = kagglehub.dataset_download(\"tongpython/cat-and-dog\")\n",
    "print(\"Path to dataset cache:\", data_root_dir)\n",
    "train_cat_dir = Path(data_root_dir) / \"training_set\" / \"training_set\" / \"cats\"\n",
    "train_dog_dir = Path(data_root_dir) / \"training_set\" / \"training_set\" / \"dogs\"\n",
    "val_cat_dir = Path(data_root_dir) / \"test_set\" / \"test_set\" / \"cats\"\n",
    "val_dog_dir = Path(data_root_dir) / \"test_set\" / \"test_set\" / \"dogs\"\n",
    "# Glob training files\n",
    "train_cat_files = list(train_cat_dir.glob(\"**/*.jpg\"))\n",
    "train_dog_files = list(train_dog_dir.glob(\"**/*.jpg\"))\n",
    "print(f\"There are {len(train_cat_files)} cat images, and {len(train_dog_files)} dog images in the training dataset\")\n",
    "df_train = pd.DataFrame({\n",
    "    'path': list(train_cat_files) + list(train_dog_files),\n",
    "    'label': ['cat'] * len(list(train_cat_files)) + ['dog'] * len(list(train_dog_files))\n",
    "})\n",
    "df_train.to_csv('annotations_train.csv', header=False, index=False)  \n",
    "\n",
    "# Glob validation files\n",
    "val_cat_files = list(val_cat_dir.glob(\"**/*.jpg\"))\n",
    "val_dog_files = list(val_dog_dir.glob(\"**/*.jpg\"))\n",
    "print(f\"There are {len(val_cat_files)} cat images, and {len(val_dog_files)} dog images in the validation dataset\")\n",
    "df_val = pd.DataFrame({\n",
    "    'path': list(val_cat_files) + list(val_dog_files),\n",
    "    'label': ['cat'] * len(list(val_cat_files)) + ['dog'] * len(list(val_dog_files))\n",
    "})\n",
    "df_val.to_csv('annotations_val.csv', header=False, index=False)  "
   ]
  },
  {
   "cell_type": "code",
   "execution_count": null,
   "id": "bf2e2f96",
   "metadata": {},
   "outputs": [],
   "source": []
  }
 ],
 "metadata": {
  "kernelspec": {
   "display_name": "catdog",
   "language": "python",
   "name": "python3"
  },
  "language_info": {
   "codemirror_mode": {
    "name": "ipython",
    "version": 3
   },
   "file_extension": ".py",
   "mimetype": "text/x-python",
   "name": "python",
   "nbconvert_exporter": "python",
   "pygments_lexer": "ipython3",
   "version": "3.13.7"
  }
 },
 "nbformat": 4,
 "nbformat_minor": 5
}
